{
  "nbformat": 4,
  "nbformat_minor": 0,
  "metadata": {
    "colab": {
      "name": "Mabani-web-graph-knn.ipynb",
      "provenance": []
    },
    "kernelspec": {
      "name": "python3",
      "display_name": "Python 3"
    },
    "language_info": {
      "name": "python"
    }
  },
  "cells": [
    {
      "cell_type": "markdown",
      "metadata": {
        "id": "i0zz5hfuuO9I"
      },
      "source": [
        "# **Web Mining Course Presentation - Fall 2021**\n",
        "Mehrdad Mohammadian\n",
        "\n",
        "GitHub repo: https://github.com/mehrdad-dev/webmining-course-fall2021\n",
        "\n",
        "\n",
        "tips❗\n",
        "\n",
        "download this jupyter notebook and upload in the google colab\n",
        "or copy link of this notebook on github, then paste on the `open notebook > github section`.\n"
      ]
    },
    {
      "cell_type": "markdown",
      "metadata": {
        "id": "WaCUO5uBk5O2"
      },
      "source": [
        "# **Maximal Clique - Clustring**\n",
        "\n",
        "NetworkX:  https://networkx.org/documentation/stable/reference/algorithms/generated/networkx.algorithms.clique.find_cliques.html#networkx.algorithms.clique.find_cliques"
      ]
    },
    {
      "cell_type": "code",
      "metadata": {
        "id": "W_rNaxRJCXni"
      },
      "source": [
        "from networkx.algorithms import clique\n",
        "import networkx as nx"
      ],
      "execution_count": 31,
      "outputs": []
    },
    {
      "cell_type": "code",
      "metadata": {
        "id": "Rttmzj5XD8dB"
      },
      "source": [
        "G = nx.Graph()\n",
        "edges_fig_4 = [('p1', 'p2'), ('p1', 'p3'), ('p3', 'p2')]\n",
        "G.add_edges_from(edges_fig_4)"
      ],
      "execution_count": 32,
      "outputs": []
    },
    {
      "cell_type": "code",
      "metadata": {
        "colab": {
          "base_uri": "https://localhost:8080/"
        },
        "id": "xFfX5sc3Qx9a",
        "outputId": "3bbbb137-fa61-4f71-a38b-45bd384e888f"
      },
      "source": [
        "cliques = clique.find_cliques(G)\n",
        "for index, clq in enumerate(cliques):\n",
        "    print( f'Maximal Clique {index+1} ', clq)"
      ],
      "execution_count": 33,
      "outputs": [
        {
          "output_type": "stream",
          "name": "stdout",
          "text": [
            "Maximal Clique 1  ['p1', 'p2', 'p3']\n"
          ]
        }
      ]
    },
    {
      "cell_type": "markdown",
      "metadata": {
        "id": "M6hhZfMOk0qO"
      },
      "source": [
        "# **KNN - Classification**"
      ]
    },
    {
      "cell_type": "code",
      "metadata": {
        "id": "KY43MbMqRv7C"
      },
      "source": [
        "from sklearn import datasets\n",
        "from sklearn.model_selection import train_test_split\n",
        "from sklearn.neighbors import KNeighborsClassifier\n",
        "from sklearn import metrics"
      ],
      "execution_count": 34,
      "outputs": []
    },
    {
      "cell_type": "markdown",
      "metadata": {
        "id": "mUe8hxh_k8sN"
      },
      "source": [
        "## **Dataset**"
      ]
    },
    {
      "cell_type": "code",
      "metadata": {
        "id": "ysjfQC1Ok2gD"
      },
      "source": [
        "wine = datasets.load_wine()\n",
        "targets = wine.target\n",
        "data = wine.data"
      ],
      "execution_count": 35,
      "outputs": []
    },
    {
      "cell_type": "code",
      "metadata": {
        "id": "vnImkftYk8Ll",
        "colab": {
          "base_uri": "https://localhost:8080/"
        },
        "outputId": "48827e8e-738f-47ef-8700-e72c8c37cbd4"
      },
      "source": [
        "wine.feature_names"
      ],
      "execution_count": 36,
      "outputs": [
        {
          "output_type": "execute_result",
          "data": {
            "text/plain": [
              "['alcohol',\n",
              " 'malic_acid',\n",
              " 'ash',\n",
              " 'alcalinity_of_ash',\n",
              " 'magnesium',\n",
              " 'total_phenols',\n",
              " 'flavanoids',\n",
              " 'nonflavanoid_phenols',\n",
              " 'proanthocyanins',\n",
              " 'color_intensity',\n",
              " 'hue',\n",
              " 'od280/od315_of_diluted_wines',\n",
              " 'proline']"
            ]
          },
          "metadata": {},
          "execution_count": 36
        }
      ]
    },
    {
      "cell_type": "code",
      "metadata": {
        "colab": {
          "base_uri": "https://localhost:8080/"
        },
        "id": "pv0neDi2nGcC",
        "outputId": "a29af657-5eb2-4520-e076-ce408b7beba3"
      },
      "source": [
        "wine.target_names"
      ],
      "execution_count": 37,
      "outputs": [
        {
          "output_type": "execute_result",
          "data": {
            "text/plain": [
              "array(['class_0', 'class_1', 'class_2'], dtype='<U7')"
            ]
          },
          "metadata": {},
          "execution_count": 37
        }
      ]
    },
    {
      "cell_type": "code",
      "metadata": {
        "colab": {
          "base_uri": "https://localhost:8080/"
        },
        "id": "_JUyNgqWpRyC",
        "outputId": "1cf5e72d-a6ae-4fd3-d0a9-61a2d3e2dec8"
      },
      "source": [
        "targets"
      ],
      "execution_count": 38,
      "outputs": [
        {
          "output_type": "execute_result",
          "data": {
            "text/plain": [
              "array([0, 0, 0, 0, 0, 0, 0, 0, 0, 0, 0, 0, 0, 0, 0, 0, 0, 0, 0, 0, 0, 0,\n",
              "       0, 0, 0, 0, 0, 0, 0, 0, 0, 0, 0, 0, 0, 0, 0, 0, 0, 0, 0, 0, 0, 0,\n",
              "       0, 0, 0, 0, 0, 0, 0, 0, 0, 0, 0, 0, 0, 0, 0, 1, 1, 1, 1, 1, 1, 1,\n",
              "       1, 1, 1, 1, 1, 1, 1, 1, 1, 1, 1, 1, 1, 1, 1, 1, 1, 1, 1, 1, 1, 1,\n",
              "       1, 1, 1, 1, 1, 1, 1, 1, 1, 1, 1, 1, 1, 1, 1, 1, 1, 1, 1, 1, 1, 1,\n",
              "       1, 1, 1, 1, 1, 1, 1, 1, 1, 1, 1, 1, 1, 1, 1, 1, 1, 1, 1, 1, 2, 2,\n",
              "       2, 2, 2, 2, 2, 2, 2, 2, 2, 2, 2, 2, 2, 2, 2, 2, 2, 2, 2, 2, 2, 2,\n",
              "       2, 2, 2, 2, 2, 2, 2, 2, 2, 2, 2, 2, 2, 2, 2, 2, 2, 2, 2, 2, 2, 2,\n",
              "       2, 2])"
            ]
          },
          "metadata": {},
          "execution_count": 38
        }
      ]
    },
    {
      "cell_type": "code",
      "metadata": {
        "colab": {
          "base_uri": "https://localhost:8080/",
          "height": 359
        },
        "id": "YULlPHDElG8x",
        "outputId": "4011ddc0-562f-4fab-8a06-3e1bc1884eb9"
      },
      "source": [
        "import pandas as pd\n",
        "df = pd.DataFrame(data)\n",
        "df.head(10)"
      ],
      "execution_count": 39,
      "outputs": [
        {
          "output_type": "execute_result",
          "data": {
            "text/html": [
              "<div>\n",
              "<style scoped>\n",
              "    .dataframe tbody tr th:only-of-type {\n",
              "        vertical-align: middle;\n",
              "    }\n",
              "\n",
              "    .dataframe tbody tr th {\n",
              "        vertical-align: top;\n",
              "    }\n",
              "\n",
              "    .dataframe thead th {\n",
              "        text-align: right;\n",
              "    }\n",
              "</style>\n",
              "<table border=\"1\" class=\"dataframe\">\n",
              "  <thead>\n",
              "    <tr style=\"text-align: right;\">\n",
              "      <th></th>\n",
              "      <th>0</th>\n",
              "      <th>1</th>\n",
              "      <th>2</th>\n",
              "      <th>3</th>\n",
              "      <th>4</th>\n",
              "      <th>5</th>\n",
              "      <th>6</th>\n",
              "      <th>7</th>\n",
              "      <th>8</th>\n",
              "      <th>9</th>\n",
              "      <th>10</th>\n",
              "      <th>11</th>\n",
              "      <th>12</th>\n",
              "    </tr>\n",
              "  </thead>\n",
              "  <tbody>\n",
              "    <tr>\n",
              "      <th>0</th>\n",
              "      <td>14.23</td>\n",
              "      <td>1.71</td>\n",
              "      <td>2.43</td>\n",
              "      <td>15.6</td>\n",
              "      <td>127.0</td>\n",
              "      <td>2.80</td>\n",
              "      <td>3.06</td>\n",
              "      <td>0.28</td>\n",
              "      <td>2.29</td>\n",
              "      <td>5.64</td>\n",
              "      <td>1.04</td>\n",
              "      <td>3.92</td>\n",
              "      <td>1065.0</td>\n",
              "    </tr>\n",
              "    <tr>\n",
              "      <th>1</th>\n",
              "      <td>13.20</td>\n",
              "      <td>1.78</td>\n",
              "      <td>2.14</td>\n",
              "      <td>11.2</td>\n",
              "      <td>100.0</td>\n",
              "      <td>2.65</td>\n",
              "      <td>2.76</td>\n",
              "      <td>0.26</td>\n",
              "      <td>1.28</td>\n",
              "      <td>4.38</td>\n",
              "      <td>1.05</td>\n",
              "      <td>3.40</td>\n",
              "      <td>1050.0</td>\n",
              "    </tr>\n",
              "    <tr>\n",
              "      <th>2</th>\n",
              "      <td>13.16</td>\n",
              "      <td>2.36</td>\n",
              "      <td>2.67</td>\n",
              "      <td>18.6</td>\n",
              "      <td>101.0</td>\n",
              "      <td>2.80</td>\n",
              "      <td>3.24</td>\n",
              "      <td>0.30</td>\n",
              "      <td>2.81</td>\n",
              "      <td>5.68</td>\n",
              "      <td>1.03</td>\n",
              "      <td>3.17</td>\n",
              "      <td>1185.0</td>\n",
              "    </tr>\n",
              "    <tr>\n",
              "      <th>3</th>\n",
              "      <td>14.37</td>\n",
              "      <td>1.95</td>\n",
              "      <td>2.50</td>\n",
              "      <td>16.8</td>\n",
              "      <td>113.0</td>\n",
              "      <td>3.85</td>\n",
              "      <td>3.49</td>\n",
              "      <td>0.24</td>\n",
              "      <td>2.18</td>\n",
              "      <td>7.80</td>\n",
              "      <td>0.86</td>\n",
              "      <td>3.45</td>\n",
              "      <td>1480.0</td>\n",
              "    </tr>\n",
              "    <tr>\n",
              "      <th>4</th>\n",
              "      <td>13.24</td>\n",
              "      <td>2.59</td>\n",
              "      <td>2.87</td>\n",
              "      <td>21.0</td>\n",
              "      <td>118.0</td>\n",
              "      <td>2.80</td>\n",
              "      <td>2.69</td>\n",
              "      <td>0.39</td>\n",
              "      <td>1.82</td>\n",
              "      <td>4.32</td>\n",
              "      <td>1.04</td>\n",
              "      <td>2.93</td>\n",
              "      <td>735.0</td>\n",
              "    </tr>\n",
              "    <tr>\n",
              "      <th>5</th>\n",
              "      <td>14.20</td>\n",
              "      <td>1.76</td>\n",
              "      <td>2.45</td>\n",
              "      <td>15.2</td>\n",
              "      <td>112.0</td>\n",
              "      <td>3.27</td>\n",
              "      <td>3.39</td>\n",
              "      <td>0.34</td>\n",
              "      <td>1.97</td>\n",
              "      <td>6.75</td>\n",
              "      <td>1.05</td>\n",
              "      <td>2.85</td>\n",
              "      <td>1450.0</td>\n",
              "    </tr>\n",
              "    <tr>\n",
              "      <th>6</th>\n",
              "      <td>14.39</td>\n",
              "      <td>1.87</td>\n",
              "      <td>2.45</td>\n",
              "      <td>14.6</td>\n",
              "      <td>96.0</td>\n",
              "      <td>2.50</td>\n",
              "      <td>2.52</td>\n",
              "      <td>0.30</td>\n",
              "      <td>1.98</td>\n",
              "      <td>5.25</td>\n",
              "      <td>1.02</td>\n",
              "      <td>3.58</td>\n",
              "      <td>1290.0</td>\n",
              "    </tr>\n",
              "    <tr>\n",
              "      <th>7</th>\n",
              "      <td>14.06</td>\n",
              "      <td>2.15</td>\n",
              "      <td>2.61</td>\n",
              "      <td>17.6</td>\n",
              "      <td>121.0</td>\n",
              "      <td>2.60</td>\n",
              "      <td>2.51</td>\n",
              "      <td>0.31</td>\n",
              "      <td>1.25</td>\n",
              "      <td>5.05</td>\n",
              "      <td>1.06</td>\n",
              "      <td>3.58</td>\n",
              "      <td>1295.0</td>\n",
              "    </tr>\n",
              "    <tr>\n",
              "      <th>8</th>\n",
              "      <td>14.83</td>\n",
              "      <td>1.64</td>\n",
              "      <td>2.17</td>\n",
              "      <td>14.0</td>\n",
              "      <td>97.0</td>\n",
              "      <td>2.80</td>\n",
              "      <td>2.98</td>\n",
              "      <td>0.29</td>\n",
              "      <td>1.98</td>\n",
              "      <td>5.20</td>\n",
              "      <td>1.08</td>\n",
              "      <td>2.85</td>\n",
              "      <td>1045.0</td>\n",
              "    </tr>\n",
              "    <tr>\n",
              "      <th>9</th>\n",
              "      <td>13.86</td>\n",
              "      <td>1.35</td>\n",
              "      <td>2.27</td>\n",
              "      <td>16.0</td>\n",
              "      <td>98.0</td>\n",
              "      <td>2.98</td>\n",
              "      <td>3.15</td>\n",
              "      <td>0.22</td>\n",
              "      <td>1.85</td>\n",
              "      <td>7.22</td>\n",
              "      <td>1.01</td>\n",
              "      <td>3.55</td>\n",
              "      <td>1045.0</td>\n",
              "    </tr>\n",
              "  </tbody>\n",
              "</table>\n",
              "</div>"
            ],
            "text/plain": [
              "      0     1     2     3      4     5   ...    7     8     9     10    11      12\n",
              "0  14.23  1.71  2.43  15.6  127.0  2.80  ...  0.28  2.29  5.64  1.04  3.92  1065.0\n",
              "1  13.20  1.78  2.14  11.2  100.0  2.65  ...  0.26  1.28  4.38  1.05  3.40  1050.0\n",
              "2  13.16  2.36  2.67  18.6  101.0  2.80  ...  0.30  2.81  5.68  1.03  3.17  1185.0\n",
              "3  14.37  1.95  2.50  16.8  113.0  3.85  ...  0.24  2.18  7.80  0.86  3.45  1480.0\n",
              "4  13.24  2.59  2.87  21.0  118.0  2.80  ...  0.39  1.82  4.32  1.04  2.93   735.0\n",
              "5  14.20  1.76  2.45  15.2  112.0  3.27  ...  0.34  1.97  6.75  1.05  2.85  1450.0\n",
              "6  14.39  1.87  2.45  14.6   96.0  2.50  ...  0.30  1.98  5.25  1.02  3.58  1290.0\n",
              "7  14.06  2.15  2.61  17.6  121.0  2.60  ...  0.31  1.25  5.05  1.06  3.58  1295.0\n",
              "8  14.83  1.64  2.17  14.0   97.0  2.80  ...  0.29  1.98  5.20  1.08  2.85  1045.0\n",
              "9  13.86  1.35  2.27  16.0   98.0  2.98  ...  0.22  1.85  7.22  1.01  3.55  1045.0\n",
              "\n",
              "[10 rows x 13 columns]"
            ]
          },
          "metadata": {},
          "execution_count": 39
        }
      ]
    },
    {
      "cell_type": "markdown",
      "metadata": {
        "id": "n9F6ya2BlwLv"
      },
      "source": [
        "## **Model Training**"
      ]
    },
    {
      "cell_type": "code",
      "metadata": {
        "id": "Acj7z2PglLr2"
      },
      "source": [
        "X_train, X_test, y_train, y_test = train_test_split(data, targets , test_size=0.3, shuffle=True, random_state=42)"
      ],
      "execution_count": 40,
      "outputs": []
    },
    {
      "cell_type": "code",
      "metadata": {
        "colab": {
          "base_uri": "https://localhost:8080/"
        },
        "id": "VBzb_LwqlguM",
        "outputId": "a8883904-e30d-49d0-c345-0630457a499c"
      },
      "source": [
        "knn_model = KNeighborsClassifier(n_neighbors=7)\n",
        "knn_model.fit(X_train, y_train)"
      ],
      "execution_count": 41,
      "outputs": [
        {
          "output_type": "execute_result",
          "data": {
            "text/plain": [
              "KNeighborsClassifier(n_neighbors=7)"
            ]
          },
          "metadata": {},
          "execution_count": 41
        }
      ]
    },
    {
      "cell_type": "markdown",
      "metadata": {
        "id": "UAHr5f6sltpF"
      },
      "source": [
        "## **Prediction**"
      ]
    },
    {
      "cell_type": "code",
      "metadata": {
        "id": "v4RjYg8dlqWC"
      },
      "source": [
        "prediction = knn_model.predict(X_test)"
      ],
      "execution_count": 42,
      "outputs": []
    },
    {
      "cell_type": "code",
      "metadata": {
        "colab": {
          "base_uri": "https://localhost:8080/"
        },
        "id": "RdLaVjwUnK94",
        "outputId": "d37d7ccf-9b9e-4e8b-d35a-714d77d107b5"
      },
      "source": [
        "prediction"
      ],
      "execution_count": 43,
      "outputs": [
        {
          "output_type": "execute_result",
          "data": {
            "text/plain": [
              "array([0, 0, 2, 0, 1, 0, 1, 2, 2, 0, 2, 2, 0, 1, 0, 1, 1, 2, 0, 1, 0, 1,\n",
              "       2, 1, 1, 1, 1, 2, 1, 0, 0, 1, 2, 0, 0, 0, 2, 2, 2, 1, 0, 1, 1, 0,\n",
              "       2, 0, 2, 1, 2, 0, 1, 0, 0, 2])"
            ]
          },
          "metadata": {},
          "execution_count": 43
        }
      ]
    },
    {
      "cell_type": "code",
      "metadata": {
        "colab": {
          "base_uri": "https://localhost:8080/"
        },
        "id": "ZldPwMS6qJ_B",
        "outputId": "bc54bebf-1fae-4189-8933-e43afed7a7a1"
      },
      "source": [
        "y_test"
      ],
      "execution_count": 44,
      "outputs": [
        {
          "output_type": "execute_result",
          "data": {
            "text/plain": [
              "array([0, 0, 2, 0, 1, 0, 1, 2, 1, 2, 0, 2, 0, 1, 0, 1, 1, 1, 0, 1, 0, 1,\n",
              "       1, 2, 2, 2, 1, 1, 1, 0, 0, 1, 2, 0, 0, 0, 2, 2, 1, 2, 0, 1, 1, 1,\n",
              "       2, 0, 1, 1, 2, 0, 1, 0, 0, 2])"
            ]
          },
          "metadata": {},
          "execution_count": 44
        }
      ]
    },
    {
      "cell_type": "code",
      "metadata": {
        "colab": {
          "base_uri": "https://localhost:8080/"
        },
        "id": "PDj1SRAZlstt",
        "outputId": "7bb906de-3f00-455c-ec45-2e03edc8762f"
      },
      "source": [
        "print(\"acc:\",metrics.accuracy_score(y_test, prediction))"
      ],
      "execution_count": 45,
      "outputs": [
        {
          "output_type": "stream",
          "name": "stdout",
          "text": [
            "acc: 0.7592592592592593\n"
          ]
        }
      ]
    },
    {
      "cell_type": "markdown",
      "metadata": {
        "id": "K1bxWDmwsUWd"
      },
      "source": [
        "## **GridSearch Example**"
      ]
    },
    {
      "cell_type": "code",
      "metadata": {
        "id": "eHDc5kaJl3zB",
        "colab": {
          "base_uri": "https://localhost:8080/"
        },
        "outputId": "6d4d51d0-e103-49c7-b55c-562fa17ac005"
      },
      "source": [
        "from sklearn.model_selection import GridSearchCV\n",
        "\n",
        "parameters = {'n_neighbors':[1,2,3,4,5,6,7,8,9,10]}\n",
        "grid = GridSearchCV(knn_model, parameters, cv=10, scoring = 'accuracy', verbose=1)\n",
        "grid.fit(X_train, y_train)"
      ],
      "execution_count": 46,
      "outputs": [
        {
          "output_type": "stream",
          "name": "stdout",
          "text": [
            "Fitting 10 folds for each of 10 candidates, totalling 100 fits\n"
          ]
        },
        {
          "output_type": "execute_result",
          "data": {
            "text/plain": [
              "GridSearchCV(cv=10, estimator=KNeighborsClassifier(n_neighbors=7),\n",
              "             param_grid={'n_neighbors': [1, 2, 3, 4, 5, 6, 7, 8, 9, 10]},\n",
              "             scoring='accuracy', verbose=1)"
            ]
          },
          "metadata": {},
          "execution_count": 46
        }
      ]
    },
    {
      "cell_type": "code",
      "metadata": {
        "colab": {
          "base_uri": "https://localhost:8080/"
        },
        "id": "n4XJbw6g7t9R",
        "outputId": "5c965f58-3cbe-4ad5-9b60-801080e82797"
      },
      "source": [
        "print(grid.best_score_)\n",
        "print(grid.best_params_)\n",
        "print(grid.best_estimator_)"
      ],
      "execution_count": 47,
      "outputs": [
        {
          "output_type": "stream",
          "name": "stdout",
          "text": [
            "0.7435897435897435\n",
            "{'n_neighbors': 1}\n",
            "KNeighborsClassifier(n_neighbors=1)\n"
          ]
        }
      ]
    }
  ]
}